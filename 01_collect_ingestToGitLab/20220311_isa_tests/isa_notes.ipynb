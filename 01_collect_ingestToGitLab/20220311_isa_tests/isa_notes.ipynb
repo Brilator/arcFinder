{
 "cells": [
  {
   "cell_type": "markdown",
   "id": "439f05dc",
   "metadata": {},
   "source": [
    "# Testing ISA-API\n",
    "\n",
    "Source: https://isa-tools.org/isa-api/content/creation.html  \n",
    "Dependency: `pip install isatools`\n",
    "\n",
    "> This is just some easy tests to get started with python again... \n",
    "\n",
    "\n"
   ]
  },
  {
   "cell_type": "code",
   "execution_count": 5,
   "id": "0eaafc43",
   "metadata": {},
   "outputs": [],
   "source": [
    "from isatools.model import *\n",
    "investigation = Investigation()\n",
    "investigation.studies.append(Study())  # adds a new default Study object to investigation"
   ]
  },
  {
   "cell_type": "code",
   "execution_count": 7,
   "id": "57b2dc37",
   "metadata": {},
   "outputs": [
    {
     "data": {
      "text/plain": [
       "[isatools.model.Study(filename='', identifier='', title='', description='', submission_date='', public_release_date='', contacts=[], design_descriptors=[], publications=[], factors=[], protocols=[], assays=[], sources=[], samples=[], process_sequence=[], other_material=[], characteristic_categories=[], comments=[], units=[])]"
      ]
     },
     "execution_count": 7,
     "metadata": {},
     "output_type": "execute_result"
    }
   ],
   "source": [
    "investigation.studies"
   ]
  },
  {
   "cell_type": "code",
   "execution_count": 9,
   "id": "5f7cf76c",
   "metadata": {},
   "outputs": [
    {
     "data": {
      "text/plain": [
       "[]"
      ]
     },
     "execution_count": 9,
     "metadata": {},
     "output_type": "execute_result"
    }
   ],
   "source": [
    "investigation.studies[0].assays"
   ]
  },
  {
   "cell_type": "code",
   "execution_count": 10,
   "id": "c7e57954",
   "metadata": {},
   "outputs": [
    {
     "data": {
      "text/plain": [
       "''"
      ]
     },
     "execution_count": 10,
     "metadata": {},
     "output_type": "execute_result"
    }
   ],
   "source": [
    "investigation.title"
   ]
  },
  {
   "cell_type": "code",
   "execution_count": 12,
   "id": "1fad67a0",
   "metadata": {},
   "outputs": [],
   "source": [
    "investigation.title = \"My ISA Investigation\""
   ]
  },
  {
   "cell_type": "code",
   "execution_count": 13,
   "id": "dcfefcfc",
   "metadata": {},
   "outputs": [
    {
     "data": {
      "text/plain": [
       "'My ISA Investigation'"
      ]
     },
     "execution_count": 13,
     "metadata": {},
     "output_type": "execute_result"
    }
   ],
   "source": [
    "investigation.title"
   ]
  },
  {
   "cell_type": "code",
   "execution_count": 14,
   "id": "8bb25da7",
   "metadata": {},
   "outputs": [],
   "source": [
    "investigation.studies[0].assays.append(Assay())  # adds a new default Assay object to study"
   ]
  },
  {
   "cell_type": "code",
   "execution_count": 16,
   "id": "86127b5b",
   "metadata": {},
   "outputs": [
    {
     "data": {
      "text/plain": [
       "[isatools.model.Assay(measurement_type=isatools.model.OntologyAnnotation(term='', term_source=None, term_accession='', comments=[]), technology_type=isatools.model.OntologyAnnotation(term='', term_source=None, term_accession='', comments=[]), technology_platform='', filename='', data_files=[], samples=[], process_sequence=[], other_material=[], characteristic_categories=[], comments=[], units=[])]"
      ]
     },
     "execution_count": 16,
     "metadata": {},
     "output_type": "execute_result"
    }
   ],
   "source": [
    "investigation.studies[0].assays"
   ]
  },
  {
   "cell_type": "code",
   "execution_count": 18,
   "id": "13d866a9",
   "metadata": {},
   "outputs": [
    {
     "data": {
      "text/plain": [
       "isatools.model.Investigation(identifier='', filename='', title='My ISA Investigation', submission_date='', public_release_date='', ontology_source_references=[], publications=[], contacts=[], studies=[isatools.model.Study(filename='', identifier='', title='', description='', submission_date='', public_release_date='', contacts=[], design_descriptors=[], publications=[], factors=[], protocols=[], assays=[isatools.model.Assay(measurement_type=isatools.model.OntologyAnnotation(term='', term_source=None, term_accession='', comments=[]), technology_type=isatools.model.OntologyAnnotation(term='', term_source=None, term_accession='', comments=[]), technology_platform='', filename='', data_files=[], samples=[], process_sequence=[], other_material=[], characteristic_categories=[], comments=[], units=[])], sources=[], samples=[], process_sequence=[], other_material=[], characteristic_categories=[], comments=[], units=[])], comments=[])"
      ]
     },
     "execution_count": 18,
     "metadata": {},
     "output_type": "execute_result"
    }
   ],
   "source": [
    "from isatools import isatab\n",
    "os.mkdir('tmp/')\n",
    "isatab.dump(investigation, 'tmp/')  # dump out ISA-Tab  to tmp/\n",
    "\n"
   ]
  },
  {
   "cell_type": "code",
   "execution_count": 58,
   "id": "135723ec",
   "metadata": {},
   "outputs": [
    {
     "name": "stdout",
     "output_type": "stream",
     "text": [
      "/var/folders/yb/b_h992r92dsdk93c6vpqh_b40000gn/T/tmpc9j8afyq/i_investigation.txt\n",
      "ONTOLOGY SOURCE REFERENCE\n",
      "Term Source Name\n",
      "Term Source File\n",
      "Term Source Version\n",
      "Term Source Description\n",
      "INVESTIGATION\n",
      "Investigation Identifier\t\n",
      "Investigation Title\tMy ISA Investigation\n",
      "Investigation Description\t\n",
      "Investigation Submission Date\t\n",
      "Investigation Public Release Date\t\n",
      "INVESTIGATION PUBLICATIONS\n",
      "Investigation PubMed ID\n",
      "Investigation Publication DOI\n",
      "Investigation Publication Author List\n",
      "Investigation Publication Title\n",
      "Investigation Publication Status\n",
      "Investigation Publication Status Term Accession Number\n",
      "Investigation Publication Status Term Source REF\n",
      "INVESTIGATION CONTACTS\n",
      "Investigation Person Last Name\n",
      "Investigation Person First Name\n",
      "Investigation Person Mid Initials\n",
      "Investigation Person Email\n",
      "Investigation Person Phone\n",
      "Investigation Person Fax\n",
      "Investigation Person Address\n",
      "Investigation Person Affiliation\n",
      "Investigation Person Roles\n",
      "Investigation Person Roles Term Accession Number\n",
      "Investigation Person Roles Term Source REF\n",
      "STUDY\n",
      "Study Identifier\t\n",
      "Study Title\t\n",
      "Study Description\t\n",
      "Study Submission Date\t\n",
      "Study Public Release Date\t\n",
      "Study File Name\t\n",
      "STUDY DESIGN DESCRIPTORS\n",
      "Study Design Type\n",
      "Study Design Type Term Accession Number\n",
      "Study Design Type Term Source REF\n",
      "STUDY PUBLICATIONS\n",
      "Study PubMed ID\n",
      "Study Publication DOI\n",
      "Study Publication Author List\n",
      "Study Publication Title\n",
      "Study Publication Status\n",
      "Study Publication Status Term Accession Number\n",
      "Study Publication Status Term Source REF\n",
      "STUDY FACTORS\n",
      "Study Factor Name\n",
      "Study Factor Type\n",
      "Study Factor Type Term Accession Number\n",
      "Study Factor Type Term Source REF\n",
      "STUDY ASSAYS\n",
      "Study Assay File Name\t\n",
      "Study Assay Measurement Type\t\n",
      "Study Assay Measurement Type Term Accession Number\t\n",
      "Study Assay Measurement Type Term Source REF\t\n",
      "Study Assay Technology Type\t\n",
      "Study Assay Technology Type Term Accession Number\t\n",
      "Study Assay Technology Type Term Source REF\t\n",
      "Study Assay Technology Platform\t\n",
      "STUDY PROTOCOLS\n",
      "Study Protocol Name\n",
      "Study Protocol Type\n",
      "Study Protocol Type Term Accession Number\n",
      "Study Protocol Type Term Source REF\n",
      "Study Protocol Description\n",
      "Study Protocol URI\n",
      "Study Protocol Version\n",
      "Study Protocol Parameters Name\n",
      "Study Protocol Parameters Name Term Accession Number\n",
      "Study Protocol Parameters Name Term Source REF\n",
      "Study Protocol Components Name\n",
      "Study Protocol Components Type\n",
      "Study Protocol Components Type Term Accession Number\n",
      "Study Protocol Components Type Term Source REF\n",
      "STUDY CONTACTS\n",
      "Study Person Last Name\n",
      "Study Person First Name\n",
      "Study Person Mid Initials\n",
      "Study Person Email\n",
      "Study Person Phone\n",
      "Study Person Fax\n",
      "Study Person Address\n",
      "Study Person Affiliation\n",
      "Study Person Roles\n",
      "Study Person Roles Term Accession Number\n",
      "Study Person Roles Term Source REF\n",
      "\n"
     ]
    }
   ],
   "source": [
    "from isatools.isatab import dumps\n",
    "print(dumps(investigation))"
   ]
  },
  {
   "cell_type": "code",
   "execution_count": 61,
   "id": "195f32d9",
   "metadata": {},
   "outputs": [
    {
     "name": "stdout",
     "output_type": "stream",
     "text": [
      "{\n",
      "    \"comments\": [],\n",
      "    \"description\": \"\",\n",
      "    \"identifier\": \"\",\n",
      "    \"ontologySourceReferences\": [],\n",
      "    \"people\": [],\n",
      "    \"publicReleaseDate\": \"\",\n",
      "    \"publications\": [],\n",
      "    \"studies\": [\n",
      "        {\n",
      "            \"assays\": [\n",
      "                {\n",
      "                    \"characteristicCategories\": [],\n",
      "                    \"comments\": [],\n",
      "                    \"dataFiles\": [],\n",
      "                    \"filename\": \"\",\n",
      "                    \"materials\": {\n",
      "                        \"otherMaterials\": [],\n",
      "                        \"samples\": []\n",
      "                    },\n",
      "                    \"measurementType\": {\n",
      "                        \"@id\": \"#6031bf7c-8913-4ff0-8dd9-6621e862d765\",\n",
      "                        \"annotationValue\": \"\",\n",
      "                        \"comments\": [],\n",
      "                        \"termAccession\": \"\",\n",
      "                        \"termSource\": \"\"\n",
      "                    },\n",
      "                    \"processSequence\": [],\n",
      "                    \"technologyPlatform\": \"\",\n",
      "                    \"technologyType\": {\n",
      "                        \"@id\": \"#49588773-764e-4f8e-99fb-2bdf3b9a5137\",\n",
      "                        \"annotationValue\": \"\",\n",
      "                        \"comments\": [],\n",
      "                        \"termAccession\": \"\",\n",
      "                        \"termSource\": \"\"\n",
      "                    },\n",
      "                    \"unitCategories\": []\n",
      "                }\n",
      "            ],\n",
      "            \"characteristicCategories\": [],\n",
      "            \"comments\": [],\n",
      "            \"description\": \"\",\n",
      "            \"factors\": [],\n",
      "            \"filename\": \"\",\n",
      "            \"identifier\": \"\",\n",
      "            \"materials\": {\n",
      "                \"otherMaterials\": [],\n",
      "                \"samples\": [],\n",
      "                \"sources\": []\n",
      "            },\n",
      "            \"people\": [],\n",
      "            \"processSequence\": [],\n",
      "            \"protocols\": [],\n",
      "            \"publicReleaseDate\": \"\",\n",
      "            \"publications\": [],\n",
      "            \"studyDesignDescriptors\": [],\n",
      "            \"submissionDate\": \"\",\n",
      "            \"title\": \"\",\n",
      "            \"unitCategories\": []\n",
      "        }\n",
      "    ],\n",
      "    \"submissionDate\": \"\",\n",
      "    \"title\": \"My ISA Investigation\"\n",
      "}\n"
     ]
    }
   ],
   "source": [
    "import json\n",
    "from isatools.isajson import ISAJSONEncoder\n",
    "print(json.dumps(investigation, cls=ISAJSONEncoder, sort_keys=True, indent=4, separators=(',', ': ')))"
   ]
  },
  {
   "cell_type": "code",
   "execution_count": 59,
   "id": "6753f3ba",
   "metadata": {},
   "outputs": [],
   "source": [
    "import json\n",
    "from isatools.isajson import ISAJSONEncoder\n",
    "with open(\"test.json\", \"a\") as f: \n",
    "    print(json.dumps(investigation, cls=ISAJSONEncoder, sort_keys=True, indent=4, separators=(',', ': ')), file = f)"
   ]
  },
  {
   "cell_type": "code",
   "execution_count": 48,
   "id": "a5afdf41",
   "metadata": {},
   "outputs": [
    {
     "data": {
      "text/plain": [
       "'{\\n    \"comments\": [],\\n    \"description\": \"\",\\n    \"identifier\": \"\",\\n    \"ontologySourceReferences\": [],\\n    \"people\": [],\\n    \"publicReleaseDate\": \"\",\\n    \"publications\": [],\\n    \"studies\": [\\n        {\\n            \"assays\": [\\n                {\\n                    \"characteristicCategories\": [],\\n                    \"comments\": [],\\n                    \"dataFiles\": [],\\n                    \"filename\": \"\",\\n                    \"materials\": {\\n                        \"otherMaterials\": [],\\n                        \"samples\": []\\n                    },\\n                    \"measurementType\": {\\n                        \"@id\": \"#6031bf7c-8913-4ff0-8dd9-6621e862d765\",\\n                        \"annotationValue\": \"\",\\n                        \"comments\": [],\\n                        \"termAccession\": \"\",\\n                        \"termSource\": \"\"\\n                    },\\n                    \"processSequence\": [],\\n                    \"technologyPlatform\": \"\",\\n                    \"technologyType\": {\\n                        \"@id\": \"#49588773-764e-4f8e-99fb-2bdf3b9a5137\",\\n                        \"annotationValue\": \"\",\\n                        \"comments\": [],\\n                        \"termAccession\": \"\",\\n                        \"termSource\": \"\"\\n                    },\\n                    \"unitCategories\": []\\n                }\\n            ],\\n            \"characteristicCategories\": [],\\n            \"comments\": [],\\n            \"description\": \"\",\\n            \"factors\": [],\\n            \"filename\": \"\",\\n            \"identifier\": \"\",\\n            \"materials\": {\\n                \"otherMaterials\": [],\\n                \"samples\": [],\\n                \"sources\": []\\n            },\\n            \"people\": [],\\n            \"processSequence\": [],\\n            \"protocols\": [],\\n            \"publicReleaseDate\": \"\",\\n            \"publications\": [],\\n            \"studyDesignDescriptors\": [],\\n            \"submissionDate\": \"\",\\n            \"title\": \"\",\\n            \"unitCategories\": []\\n        }\\n    ],\\n    \"submissionDate\": \"\",\\n    \"title\": \"My ISA Investigation\"\\n}'"
      ]
     },
     "execution_count": 48,
     "metadata": {},
     "output_type": "execute_result"
    }
   ],
   "source": [
    "json.dumps(investigation, cls=ISAJSONEncoder, sort_keys=True, indent=4, separators=(',', ': '))"
   ]
  }
 ],
 "metadata": {
  "kernelspec": {
   "display_name": "Python 3 (ipykernel)",
   "language": "python",
   "name": "python3"
  },
  "language_info": {
   "codemirror_mode": {
    "name": "ipython",
    "version": 3
   },
   "file_extension": ".py",
   "mimetype": "text/x-python",
   "name": "python",
   "nbconvert_exporter": "python",
   "pygments_lexer": "ipython3",
   "version": "3.9.7"
  }
 },
 "nbformat": 4,
 "nbformat_minor": 5
}
